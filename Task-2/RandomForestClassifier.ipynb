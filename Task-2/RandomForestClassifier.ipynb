{
 "cells": [
  {
   "cell_type": "code",
   "execution_count": 1,
   "id": "1916006d",
   "metadata": {},
   "outputs": [
    {
     "name": "stdout",
     "output_type": "stream",
     "text": [
      "Accuracy: 0.8571428571428571\n"
     ]
    }
   ],
   "source": [
    "import pandas as pd\n",
    "import numpy as np\n",
    "from sklearn.model_selection import train_test_split\n",
    "from sklearn.metrics import accuracy_score\n",
    "from sklearn.ensemble import RandomForestClassifier\n",
    "\n",
    "# Create dataset\n",
    "dataset_dict = {\n",
    "    'Outlook': ['sunny', 'sunny', 'overcast', 'rainy', 'rainy', 'rainy', 'overcast', \n",
    "                'sunny', 'sunny', 'rainy', 'sunny', 'overcast', 'overcast', 'rainy',\n",
    "                'sunny', 'overcast', 'rainy', 'sunny', 'sunny', 'rainy', 'overcast',\n",
    "                'rainy', 'sunny', 'overcast', 'sunny', 'overcast', 'rainy', 'overcast'],\n",
    "    'Temperature': [85.0, 80.0, 83.0, 70.0, 68.0, 65.0, 64.0, 72.0, 69.0, 75.0, 75.0,\n",
    "                   72.0, 81.0, 71.0, 81.0, 74.0, 76.0, 78.0, 82.0, 67.0, 85.0, 73.0,\n",
    "                   88.0, 77.0, 79.0, 80.0, 66.0, 84.0],\n",
    "    'Humidity': [85.0, 90.0, 78.0, 96.0, 80.0, 70.0, 65.0, 95.0, 70.0, 80.0, 70.0,\n",
    "                 90.0, 75.0, 80.0, 88.0, 92.0, 85.0, 75.0, 92.0, 90.0, 85.0, 88.0,\n",
    "                 65.0, 70.0, 60.0, 95.0, 70.0, 78.0],\n",
    "    'Wind': [False, True, False, False, False, True, True, False, False, False, True,\n",
    "             True, False, True, True, False, False, True, False, True, True, False,\n",
    "             True, False, False, True, False, False],\n",
    "    'Play': ['No', 'No', 'Yes', 'Yes', 'Yes', 'No', 'Yes', 'No', 'Yes', 'Yes', 'Yes',\n",
    "             'Yes', 'Yes', 'No', 'No', 'Yes', 'Yes', 'No', 'No', 'No', 'Yes', 'Yes',\n",
    "             'Yes', 'Yes', 'Yes', 'Yes', 'No', 'Yes']\n",
    "}\n",
    "\n",
    "# Prepare data\n",
    "df = pd.DataFrame(dataset_dict)\n",
    "df = pd.get_dummies(df, columns=['Outlook'], prefix='', prefix_sep='', dtype=int)\n",
    "df['Wind'] = df['Wind'].astype(int)\n",
    "df['Play'] = (df['Play'] == 'Yes').astype(int)\n",
    "\n",
    "# Rearrange columns\n",
    "column_order = ['sunny', 'overcast', 'rainy', 'Temperature', 'Humidity', 'Wind', 'Play']\n",
    "df = df[column_order]\n",
    "\n",
    "# Split features and target\n",
    "X, y = df.drop('Play', axis=1), df['Play']\n",
    "X_train, X_test, y_train, y_test = train_test_split(X, y, train_size=0.5, shuffle=False)\n",
    "\n",
    "# Train Random Forest\n",
    "rf = RandomForestClassifier(n_estimators=100, max_features='sqrt', random_state=42)\n",
    "rf.fit(X_train, y_train)\n",
    "\n",
    "# Predict and evaluate\n",
    "y_pred = rf.predict(X_test)\n",
    "print(f\"Accuracy: {accuracy_score(y_test, y_pred)}\")"
   ]
  }
 ],
 "metadata": {
  "kernelspec": {
   "display_name": "Python 3",
   "language": "python",
   "name": "python3"
  },
  "language_info": {
   "codemirror_mode": {
    "name": "ipython",
    "version": 3
   },
   "file_extension": ".py",
   "mimetype": "text/x-python",
   "name": "python",
   "nbconvert_exporter": "python",
   "pygments_lexer": "ipython3",
   "version": "3.11.8"
  }
 },
 "nbformat": 4,
 "nbformat_minor": 5
}
